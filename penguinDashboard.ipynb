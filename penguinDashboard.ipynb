{
  "cells": [
    {
      "cell_type": "raw",
      "metadata": {},
      "source": [
        "--- \n",
        "title: \"Palmer Penguins\"\n",
        "author: \"Cobblepot Analytics\"\n",
        "format: dashboard\n",
        "---"
      ],
      "id": "17b2df8e"
    },
    {
      "cell_type": "markdown",
      "metadata": {},
      "source": [
        "## Column {width=40%}\n"
      ],
      "id": "8056f5c8"
    }
  ],
  "metadata": {
    "kernelspec": {
      "display_name": "Python 3",
      "language": "python",
      "name": "python3"
    }
  },
  "nbformat": 4,
  "nbformat_minor": 5
}